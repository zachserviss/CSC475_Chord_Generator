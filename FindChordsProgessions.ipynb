{
 "cells": [
  {
   "cell_type": "markdown",
   "id": "13f15253-b0f5-40f5-b483-be421d01afc5",
   "metadata": {},
   "source": [
    "Chrod Progression\n",
    "\n"
   ]
  },
  {
   "cell_type": "code",
   "execution_count": 9,
   "id": "508a79de-52dc-48ab-8ebb-5e18ca602553",
   "metadata": {},
   "outputs": [
    {
     "name": "stdout",
     "output_type": "stream",
     "text": [
      "Chord played:  C# \n",
      "\n",
      "Chords in the Key of  C# :\n",
      "['C#', 'D#m', 'E#m', 'F#', 'G#', 'A#m', 'B#dim'] \n",
      "\n",
      "Chords in the Progression:\n",
      "['C#', 'G#', 'A#m', 'F#'] \n",
      "\n",
      "Chords in the Progression: \n",
      "['C#', 'F#', 'G#'] \n",
      "\n",
      "Chords in the Progression: \n",
      "['C#', 'G#', 'A#m', 'E#m', 'F#', 'C#', 'F#', 'G#']\n"
     ]
    }
   ],
   "source": [
    "# A Chord is played and read in to the program\n",
    "test = \"C#\"\n",
    "print(\"Chord played: \", test, \"\\n\")\n",
    "# Read in the file  with the chord progression lists\n",
    "with open('ChordKeys.txt', 'r') as f:\n",
    "        for line in f:\n",
    "            chords = line.split()\n",
    "            if chords:\n",
    "                if(chords[0] == test):\n",
    "                    #print(chords)\n",
    "                    break;\n",
    "\n",
    "print(\"Chords in the Key of \", test, \":\")                \n",
    "print(chords,\"\\n\")\n",
    "# Possible chord progressions\n",
    "\n",
    "# A     Bb     B     C     C#     D     Eb     E     F     F#     G     G# \n",
    "\n",
    "# Example - A \n",
    "\n",
    "# Define Array of 7 and Place each note into their place in the array\n",
    "    #[i][ii][iii][IV][V][vi][vii]\n",
    "    #[A][B][C#][D][E][F#][G#]\n",
    "\n",
    "pop_Progression = [0]*4\n",
    "pop = [int(0),int(4),int(5),int(3)]\n",
    "j = 0\n",
    "for i in pop:\n",
    "    pop_Progression[j] = chords[i]\n",
    "    j = j+1\n",
    "print (\"Chords in the Progression:\")\n",
    "print(pop_Progression,\"\\n\")\n",
    "\n",
    "blues_Progression = [0]*3\n",
    "blues = [int(0),int(3),int(4)]\n",
    "j = 0\n",
    "for i in blues:\n",
    "    blues_Progression[j] = chords[i]\n",
    "    j = j+1\n",
    "print (\"Chords in the Progression: \")\n",
    "print(blues_Progression,\"\\n\")\n",
    "\n",
    "\n",
    "#I – V – vi – iii – IV – I – IV – V\n",
    "cannon_Progression = [0]*8\n",
    "cannon = [int(0),int(4),int(5),int(2),int(3),int(0),int(3),int(4)]\n",
    "j = 0\n",
    "for i in cannon:\n",
    "    cannon_Progression[j] = chords[i]\n",
    "    j = j+1\n",
    "print (\"Chords in the Progression: \")\n",
    "print(cannon_Progression)\n",
    "\n",
    "\n",
    "\n"
   ]
  },
  {
   "cell_type": "code",
   "execution_count": null,
   "id": "72643f07-189f-4b50-91f5-2e38268f9cab",
   "metadata": {},
   "outputs": [],
   "source": []
  },
  {
   "cell_type": "code",
   "execution_count": null,
   "id": "c3734534-2f35-453f-ba4d-cd78719f53af",
   "metadata": {},
   "outputs": [],
   "source": []
  }
 ],
 "metadata": {
  "kernelspec": {
   "display_name": "Python 3 (ipykernel)",
   "language": "python",
   "name": "python3"
  },
  "language_info": {
   "codemirror_mode": {
    "name": "ipython",
    "version": 3
   },
   "file_extension": ".py",
   "mimetype": "text/x-python",
   "name": "python",
   "nbconvert_exporter": "python",
   "pygments_lexer": "ipython3",
   "version": "3.9.7"
  }
 },
 "nbformat": 4,
 "nbformat_minor": 5
}
