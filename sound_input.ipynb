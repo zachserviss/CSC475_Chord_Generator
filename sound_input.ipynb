{
 "cells": [
  {
   "cell_type": "code",
   "execution_count": null,
   "metadata": {},
   "outputs": [],
   "source": []
  },
  {
   "cell_type": "code",
   "execution_count": 5,
   "metadata": {},
   "outputs": [
    {
     "name": "stdout",
     "output_type": "stream",
     "text": [
      "\u001b[33mDEPRECATION: Configuring installation scheme with distutils config files is deprecated and will no longer work in the near future. If you are using a Homebrew or Linuxbrew Python, please see discussion at https://github.com/Homebrew/homebrew-core/issues/76621\u001b[0m\u001b[33m\n",
      "\u001b[0mRequirement already satisfied: pyaudio in /opt/homebrew/lib/python3.9/site-packages (0.2.11)\n",
      "\u001b[33mDEPRECATION: Configuring installation scheme with distutils config files is deprecated and will no longer work in the near future. If you are using a Homebrew or Linuxbrew Python, please see discussion at https://github.com/Homebrew/homebrew-core/issues/76621\u001b[0m\u001b[33m\n",
      "\u001b[0m"
     ]
    }
   ],
   "source": [
    "!pip3 install pyaudio\n",
    "import pyaudio\n",
    "import wave\n",
    "\n",
    "\n"
   ]
  },
  {
   "cell_type": "code",
   "execution_count": 8,
   "metadata": {},
   "outputs": [
    {
     "name": "stdout",
     "output_type": "stream",
     "text": [
      "Recording...\n",
      "Finished recording.\n"
     ]
    }
   ],
   "source": [
    "import pyaudio\n",
    "import wave\n",
    "\n",
    "# the file name output you want to record into\n",
    "filename = \"recorded.wav\"\n",
    "# set the chunk size of 1024 samples\n",
    "chunk = 1024\n",
    "# sample format\n",
    "FORMAT = pyaudio.paInt16\n",
    "# mono, change to 2 if you want stereo\n",
    "channels = 1\n",
    "# 44100 samples per second\n",
    "sample_rate = 44100\n",
    "record_seconds = 5\n",
    "# initialize PyAudio object\n",
    "p = pyaudio.PyAudio()\n",
    "# open stream object as input & output\n",
    "stream = p.open(format=FORMAT,\n",
    "                channels=channels,\n",
    "                rate=sample_rate,\n",
    "                input=True,\n",
    "                output=True,\n",
    "                frames_per_buffer=chunk)\n",
    "frames = []\n",
    "print(\"Recording...\")\n",
    "for i in range(int(sample_rate / chunk * record_seconds)):\n",
    "    data = stream.read(chunk)\n",
    "    # if you want to hear your voice while recording\n",
    "    # stream.write(data)\n",
    "    frames.append(data)\n",
    "print(\"Finished recording.\")\n",
    "# stop and close stream\n",
    "stream.stop_stream()\n",
    "stream.close()\n",
    "# terminate pyaudio object\n",
    "p.terminate()\n",
    "# save audio file\n",
    "# open the file in 'write bytes' mode\n",
    "wf = wave.open(filename, \"wb\")\n",
    "# set the channels\n",
    "wf.setnchannels(channels)\n",
    "# set the sample format\n",
    "wf.setsampwidth(p.get_sample_size(FORMAT))\n",
    "# set the sample rate\n",
    "wf.setframerate(sample_rate)\n",
    "# write the frames as bytes\n",
    "wf.writeframes(b\"\".join(frames))\n",
    "# close the file\n",
    "wf.close()"
   ]
  },
  {
   "cell_type": "code",
   "execution_count": 13,
   "metadata": {},
   "outputs": [
    {
     "name": "stderr",
     "output_type": "stream",
     "text": [
      "/var/folders/dj/4t0nmj5d2pv4sfpjw2t429sm0000gn/T/ipykernel_24325/3849241525.py:11: DeprecationWarning: The binary mode of fromstring is deprecated, as it behaves surprisingly on unicode inputs. Use frombuffer instead\n",
      "  signal = np.fromstring(signal,np.int64)\n"
     ]
    },
    {
     "data": {
      "image/png": "[encoded data removed]",
      "text/plain": [
       "<Figure size 432x288 with 1 Axes>"
      ]
     },
     "metadata": {
      "needs_background": "light"
     },
     "output_type": "display_data"
    }
   ],
   "source": [
    "import matplotlib.pyplot as plt\n",
    "import numpy as np\n",
    "import wave\n",
    "import sys\n",
    "\n",
    "\n",
    "spf = wave.open(\"recorded.wav\", \"r\")\n",
    "\n",
    "# Extract Raw Audio from Wav File\n",
    "signal = spf.readframes(-1)\n",
    "signal = np.fromstring(signal,np.int64)\n",
    "fs = spf.getframerate()\n",
    "\n",
    "# If Stereo\n",
    "if spf.getnchannels() == 2:\n",
    "    print(\"Just mono files\")\n",
    "    sys.exit(0)\n",
    "\n",
    "\n",
    "Time = np.linspace(0, len(signal) / fs, num=len(signal))\n",
    "\n",
    "plt.figure(1)\n",
    "plt.title(\"Signal Wave...\")\n",
    "plt.plot(Time, signal)\n",
    "plt.show()"
   ]
  }
 ],
 "metadata": {
  "interpreter": {
   "hash": "b0fa6594d8f4cbf19f97940f81e996739fb7646882a419484c72d19e05852a7e"
  },
  "kernelspec": {
   "display_name": "Python 3.9.10 64-bit",
   "language": "python",
   "name": "python3"
  },
  "language_info": {
   "codemirror_mode": {
    "name": "ipython",
    "version": 3
   },
   "file_extension": ".py",
   "mimetype": "text/x-python",
   "name": "python",
   "nbconvert_exporter": "python",
   "pygments_lexer": "ipython3",
   "version": "3.9.10"
  },
  "orig_nbformat": 4
 },
 "nbformat": 4,
 "nbformat_minor": 2
}
